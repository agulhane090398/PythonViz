{
  "nbformat": 4,
  "nbformat_minor": 0,
  "metadata": {
    "colab": {
      "provenance": [],
      "authorship_tag": "ABX9TyMsGJ7N+Z4m1RZs6f9PzMz3",
      "include_colab_link": true
    },
    "kernelspec": {
      "name": "python3",
      "display_name": "Python 3"
    },
    "language_info": {
      "name": "python"
    }
  },
  "cells": [
    {
      "cell_type": "markdown",
      "metadata": {
        "id": "view-in-github",
        "colab_type": "text"
      },
      "source": [
        "<a href=\"https://colab.research.google.com/github/agulhane090398/PythonViz/blob/main/NPS_Casestudy.ipynb\" target=\"_parent\"><img src=\"https://colab.research.google.com/assets/colab-badge.svg\" alt=\"Open In Colab\"/></a>"
      ]
    },
    {
      "cell_type": "markdown",
      "source": [
        "# **Case Study : NPS**"
      ],
      "metadata": {
        "id": "uL-JnzAijFGq"
      }
    },
    {
      "cell_type": "code",
      "execution_count": null,
      "metadata": {
        "colab": {
          "base_uri": "https://localhost:8080/"
        },
        "id": "FgTmFTN_jCCi",
        "outputId": "43682bd5-9818-41c9-8c49-83e083aa4136"
      },
      "outputs": [
        {
          "output_type": "stream",
          "name": "stdout",
          "text": [
            "Failed to retrieve file url:\n",
            "\n",
            "\tToo many users have viewed or downloaded this file recently. Please\n",
            "\ttry accessing the file again later. If the file you are trying to\n",
            "\taccess is particularly large or is shared with many people, it may\n",
            "\ttake up to 24 hours to be able to view or download the file. If you\n",
            "\tstill can't access a file after 24 hours, contact your domain\n",
            "\tadministrator.\n",
            "\n",
            "You may still be able to access the file from the browser:\n",
            "\n",
            "\thttps://drive.google.com/uc?id=1c0ClC8SrPwJq5rrkyMKyPn80nyHcFikK\n",
            "\n",
            "but Gdown can't. Please check connections and permissions.\n"
          ]
        }
      ],
      "source": [
        "import numpy as np\n",
        "!gdown 1c0ClC8SrPwJq5rrkyMKyPn80nyHcFikK\n",
        "# or else download it from the link and direcly paste in colab"
      ]
    },
    {
      "cell_type": "markdown",
      "source": [
        "## *Lets load the data*"
      ],
      "metadata": {
        "id": "uncTWHe3jb17"
      }
    },
    {
      "cell_type": "code",
      "source": [
        "score=np.loadtxt('survey.txt', dtype='int')"
      ],
      "metadata": {
        "id": "O2pGJLYljaFn"
      },
      "execution_count": null,
      "outputs": []
    },
    {
      "cell_type": "code",
      "source": [
        "score"
      ],
      "metadata": {
        "colab": {
          "base_uri": "https://localhost:8080/"
        },
        "id": "_YDOEE7Zkble",
        "outputId": "34d8145e-320c-42bc-8f8d-6cff22d1131e"
      },
      "execution_count": null,
      "outputs": [
        {
          "output_type": "execute_result",
          "data": {
            "text/plain": [
              "array([ 7, 10,  5, ...,  5,  9, 10])"
            ]
          },
          "metadata": {},
          "execution_count": 6
        }
      ]
    },
    {
      "cell_type": "code",
      "source": [
        "print(score.shape)\n",
        "print(score.ndim)\n",
        "print(score.min)\n",
        "print(score.max)"
      ],
      "metadata": {
        "colab": {
          "base_uri": "https://localhost:8080/"
        },
        "id": "p3oFxmwCkLN2",
        "outputId": "5c2b4d17-a7ec-4fab-95f9-0faea448f8df"
      },
      "execution_count": null,
      "outputs": [
        {
          "output_type": "stream",
          "name": "stdout",
          "text": [
            "(1167,)\n",
            "1\n",
            "<built-in method min of numpy.ndarray object at 0x7d37ea48a0d0>\n",
            "<built-in method max of numpy.ndarray object at 0x7d37ea48a0d0>\n"
          ]
        }
      ]
    },
    {
      "cell_type": "markdown",
      "source": [
        "Now, let's calculate NPS using these response.\n",
        "\n",
        "NPS = % Promoters - % Detractors\n",
        "\n",
        "Now, in order to calculate NPS, we need to calculate two things:\n",
        "\n",
        " * % Promoters\n",
        " * % Detractors"
      ],
      "metadata": {
        "id": "VjYGoGybktNG"
      }
    },
    {
      "cell_type": "markdown",
      "source": [
        "Similarly, We will map our scores into 3 categories s.t:\n",
        "\n",
        "*  0 - 6: Detractors\n",
        "\n",
        "* 7 - 8: Passive\n",
        "\n",
        "* 9 - 10: Prometers\n",
        "\n",
        "This process is called binning"
      ],
      "metadata": {
        "id": "zYFKTwN8lDFF"
      }
    },
    {
      "cell_type": "code",
      "source": [
        "total=score.shape[0]"
      ],
      "metadata": {
        "id": "quxz1A0blaWa"
      },
      "execution_count": null,
      "outputs": []
    },
    {
      "cell_type": "code",
      "source": [
        "detractor=score[score<=6].shape[0]"
      ],
      "metadata": {
        "id": "6HvCB95_kZzh"
      },
      "execution_count": null,
      "outputs": []
    },
    {
      "cell_type": "code",
      "source": [
        "percentDetractor=detractor/total*100\n",
        "percentDetractor"
      ],
      "metadata": {
        "colab": {
          "base_uri": "https://localhost:8080/"
        },
        "id": "UxMi869XlZoQ",
        "outputId": "089350da-56bc-4f8d-ca7d-e9e59ed1824b"
      },
      "execution_count": null,
      "outputs": [
        {
          "output_type": "execute_result",
          "data": {
            "text/plain": [
              "28.449014567266495"
            ]
          },
          "metadata": {},
          "execution_count": 10
        }
      ]
    },
    {
      "cell_type": "code",
      "source": [
        "promoter=score[score>=9].shape[0]\n",
        "percentPromoter=promoter/total*100\n",
        "percentPromoter"
      ],
      "metadata": {
        "colab": {
          "base_uri": "https://localhost:8080/"
        },
        "id": "vhJ4tbhflsvk",
        "outputId": "0d9a1a32-ae9c-43dc-8870-6482bce3410e"
      },
      "execution_count": null,
      "outputs": [
        {
          "output_type": "execute_result",
          "data": {
            "text/plain": [
              "52.185089974293064"
            ]
          },
          "metadata": {},
          "execution_count": 12
        }
      ]
    },
    {
      "cell_type": "code",
      "source": [
        "# So,\n",
        "nps=percentPromoter-percentDetractor\n",
        "nps"
      ],
      "metadata": {
        "colab": {
          "base_uri": "https://localhost:8080/"
        },
        "id": "3UdEcNL8mEIl",
        "outputId": "f19eb723-108d-4268-d134-10200863a88e"
      },
      "execution_count": null,
      "outputs": [
        {
          "output_type": "execute_result",
          "data": {
            "text/plain": [
              "23.73607540702657"
            ]
          },
          "metadata": {},
          "execution_count": 13
        }
      ]
    },
    {
      "cell_type": "markdown",
      "source": [
        "### Now bining the data"
      ],
      "metadata": {
        "id": "4faBFgi-myA8"
      }
    },
    {
      "cell_type": "code",
      "source": [
        "arr=np.empty(shape=score.shape, dtype='U20')"
      ],
      "metadata": {
        "id": "25VFuZhUmYBi"
      },
      "execution_count": null,
      "outputs": []
    },
    {
      "cell_type": "code",
      "source": [
        "arr[score<=6]='Detractors'\n",
        "arr"
      ],
      "metadata": {
        "colab": {
          "base_uri": "https://localhost:8080/"
        },
        "id": "4I6ySV5mm_7o",
        "outputId": "49607d81-1643-4981-a011-fb89635046e8"
      },
      "execution_count": null,
      "outputs": [
        {
          "output_type": "execute_result",
          "data": {
            "text/plain": [
              "array(['', '', 'Detractors', ..., 'Detractors', '', ''], dtype='<U20')"
            ]
          },
          "metadata": {},
          "execution_count": 16
        }
      ]
    },
    {
      "cell_type": "code",
      "source": [
        "# similarly\n",
        "arr[(score<=8) & (score>=7)]=\"Passive\"\n",
        "arr"
      ],
      "metadata": {
        "colab": {
          "base_uri": "https://localhost:8080/"
        },
        "id": "JOi1PfDknSYD",
        "outputId": "82f7eba1-9d91-4d40-89e9-38d176e1f345"
      },
      "execution_count": null,
      "outputs": [
        {
          "output_type": "execute_result",
          "data": {
            "text/plain": [
              "array(['Passive', '', 'Detractors', ..., 'Detractors', '', ''],\n",
              "      dtype='<U20')"
            ]
          },
          "metadata": {},
          "execution_count": 17
        }
      ]
    },
    {
      "cell_type": "code",
      "source": [
        "arr[score>=9]=\"Promoters\"\n",
        "arr"
      ],
      "metadata": {
        "colab": {
          "base_uri": "https://localhost:8080/"
        },
        "id": "gWvwvimNnj0K",
        "outputId": "9c659243-c37a-42fe-ee96-c517bc64baa1"
      },
      "execution_count": null,
      "outputs": [
        {
          "output_type": "execute_result",
          "data": {
            "text/plain": [
              "array(['Passive', 'Promoters', 'Detractors', ..., 'Detractors',\n",
              "       'Promoters', 'Promoters'], dtype='<U20')"
            ]
          },
          "metadata": {},
          "execution_count": 18
        }
      ]
    },
    {
      "cell_type": "markdown",
      "source": [
        "### Count for each category"
      ],
      "metadata": {
        "id": "_y8pYoCcoL7t"
      }
    },
    {
      "cell_type": "code",
      "source": [
        "promoter_count=arr[arr==\"Promoters\"].shape[0]\n",
        "promoter_count"
      ],
      "metadata": {
        "colab": {
          "base_uri": "https://localhost:8080/"
        },
        "id": "2DdxAbM8nuaT",
        "outputId": "49ff4a6a-5640-49cc-b8ec-6d5bc57ce26c"
      },
      "execution_count": null,
      "outputs": [
        {
          "output_type": "execute_result",
          "data": {
            "text/plain": [
              "609"
            ]
          },
          "metadata": {},
          "execution_count": 20
        }
      ]
    },
    {
      "cell_type": "code",
      "source": [
        "detrator_count=arr[arr==\"Detractors\"].shape[0]\n",
        "detrator_count"
      ],
      "metadata": {
        "colab": {
          "base_uri": "https://localhost:8080/"
        },
        "id": "CrSCwNYCogpm",
        "outputId": "ae570b84-70bb-49ad-f61b-47146ebf446a"
      },
      "execution_count": null,
      "outputs": [
        {
          "output_type": "execute_result",
          "data": {
            "text/plain": [
              "332"
            ]
          },
          "metadata": {},
          "execution_count": 21
        }
      ]
    },
    {
      "cell_type": "code",
      "source": [
        "passive_count=arr[arr==\"Passive\"].shape[0]\n",
        "passive_count"
      ],
      "metadata": {
        "colab": {
          "base_uri": "https://localhost:8080/"
        },
        "id": "NI6cS8e2otx6",
        "outputId": "c4e7f56f-0fd2-42e9-cafd-2ce9c3012065"
      },
      "execution_count": null,
      "outputs": [
        {
          "output_type": "execute_result",
          "data": {
            "text/plain": [
              "226"
            ]
          },
          "metadata": {},
          "execution_count": 22
        }
      ]
    },
    {
      "cell_type": "code",
      "source": [
        "# similary  we can also do:-\n",
        "\n",
        "np.unique(arr, return_counts=True)"
      ],
      "metadata": {
        "colab": {
          "base_uri": "https://localhost:8080/"
        },
        "id": "rfxv0PVeo0_8",
        "outputId": "4fb56e96-9fa0-476b-b380-816f34a93546"
      },
      "execution_count": null,
      "outputs": [
        {
          "output_type": "execute_result",
          "data": {
            "text/plain": [
              "(array(['Detractors', 'Passive', 'Promoters'], dtype='<U20'),\n",
              " array([332, 226, 609]))"
            ]
          },
          "metadata": {},
          "execution_count": 23
        }
      ]
    },
    {
      "cell_type": "code",
      "source": [
        "unique, counts = np.unique(arr, return_counts=True)\n",
        "print(unique)\n",
        "print(counts)"
      ],
      "metadata": {
        "colab": {
          "base_uri": "https://localhost:8080/"
        },
        "id": "KwY8xgdgpGDt",
        "outputId": "a16aaf28-5ecb-4f6f-872b-514e6d054787"
      },
      "execution_count": null,
      "outputs": [
        {
          "output_type": "stream",
          "name": "stdout",
          "text": [
            "['Detractors' 'Passive' 'Promoters']\n",
            "[332 226 609]\n"
          ]
        }
      ]
    },
    {
      "cell_type": "code",
      "source": [],
      "metadata": {
        "id": "-Gwms_E0pbcd"
      },
      "execution_count": null,
      "outputs": []
    }
  ]
}